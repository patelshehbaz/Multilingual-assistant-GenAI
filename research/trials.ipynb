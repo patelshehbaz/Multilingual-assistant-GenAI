{
 "cells": [
  {
   "cell_type": "code",
   "execution_count": 1,
   "metadata": {},
   "outputs": [],
   "source": [
    "import os"
   ]
  },
  {
   "cell_type": "code",
   "execution_count": 7,
   "metadata": {},
   "outputs": [
    {
     "name": "stdout",
     "output_type": "stream",
     "text": [
      "perfect!!\n"
     ]
    }
   ],
   "source": [
    "from dotenv import load_dotenv\n",
    "import os\n",
    "\n",
    "print(\"perfect!!\")\n",
    "load_dotenv()\n",
    "\n",
    "GOOGLE_API_KEY=os.getenv(\"GOOGLE_API_KEY\")\n",
    "#print(GOOGLE_API_KEY)\n",
    "os.environ[\"GOOGLE_API_KEY\"]=GOOGLE_API_KEY"
   ]
  },
  {
   "cell_type": "code",
   "execution_count": 3,
   "metadata": {},
   "outputs": [
    {
     "name": "stderr",
     "output_type": "stream",
     "text": [
      "/Users/shehbazpatel/Documents/Ineuron_Projects/MLOPS/GenAI/Multilingual-assistant-GenAI/genaii/lib/python3.9/site-packages/tqdm/auto.py:21: TqdmWarning: IProgress not found. Please update jupyter and ipywidgets. See https://ipywidgets.readthedocs.io/en/stable/user_install.html\n",
      "  from .autonotebook import tqdm as notebook_tqdm\n"
     ]
    }
   ],
   "source": [
    "# Import the Python SDK\n",
    "import google.generativeai as genai"
   ]
  },
  {
   "cell_type": "code",
   "execution_count": 4,
   "metadata": {},
   "outputs": [],
   "source": [
    "genai.configure(api_key=GOOGLE_API_KEY)"
   ]
  },
  {
   "cell_type": "code",
   "execution_count": 5,
   "metadata": {},
   "outputs": [],
   "source": [
    "model = genai.GenerativeModel('gemini-pro')"
   ]
  },
  {
   "cell_type": "code",
   "execution_count": 6,
   "metadata": {},
   "outputs": [
    {
     "name": "stdout",
     "output_type": "stream",
     "text": [
      "In the quaint town of Willow Creek, where secrets whispered through the cobblestone streets, there lived a curious young girl named Anya. Her heart yearned for adventure, and her eyes sparkled with an unquenchable thirst for the extraordinary.\n",
      "\n",
      "One ordinary morning, as Anya rummaged through her dusty attic, a peculiar glint caught her attention. Beneath a pile of forgotten treasures lay an ancient backpack, its leather straps worn and faded with time. As she lifted it from the depths, a faint shimmer emanated from its surface.\n",
      "\n",
      "With trembling hands, Anya unzipped the backpack and gasped in amazement. Its interior was a kaleidoscope of colors, filled with an array of shimmering objects. There were celestial orbs that glowed with a soft, ethereal light, a compass that pointed toward hidden wonders, and a book that whispered ancient tales into Anya's eager ears.\n",
      "\n",
      "As she delved deeper into the backpack's secrets, Anya discovered its true nature. It was a portal to a realm where imagination soared and dreams became reality. With each step she took inside its enchanted confines, she found herself transported to extraordinary worlds.\n",
      "\n",
      "She embarked on voyages through time, meeting legendary figures from the past. She soared through the skies on the back of a majestic pegasus, exploring uncharted lands. She even journeyed to the depths of the ocean, where she befriended playful dolphins and witnessed the wonders of the hidden realm.\n",
      "\n",
      "However, the backpack's magic came with a price. It demanded a steady supply of imagination and creativity to sustain its existence. As Anya's adventures grew bolder and her imagination flourished, the backpack glowed with an ever-brighter light.\n",
      "\n",
      "One fateful day, as Anya stood at the edge of a breathtaking canyon, the backpack suddenly grew heavy. The orbs flickered and the pages of the book turned blank. Anya panicked, realizing that her creativity had waned.\n",
      "\n",
      "Desperation surged through her, and she frantically searched for inspiration. Just when all hope seemed lost, she heard a faint melody carried on the wind. Following its tune, Anya came across a group of children playing a fantastical game.\n",
      "\n",
      "As she watched them, a spark ignited within her. She joined their play, mingling her imagination with theirs. To her delight, the backpack's magic gradually returned. The orbs glowed brightly once more, the book filled with vibrant stories, and the compass pointed toward new adventures yet to be discovered.\n",
      "\n",
      "From that day forward, Anya understood the true secret of the magic backpack. It was not merely a tool for escapism, but a vessel that amplified the boundless power of her imagination. And so, with her backpack ever by her side, Anya continued to explore the wonders of the world, both within and beyond its enchanted confines.\n"
     ]
    }
   ],
   "source": [
    "response = model.generate_content(\"Write a story about a magic backpack.\")\n",
    "print(response.text)"
   ]
  },
  {
   "cell_type": "code",
   "execution_count": null,
   "metadata": {},
   "outputs": [],
   "source": []
  }
 ],
 "metadata": {
  "kernelspec": {
   "display_name": "Python 3",
   "language": "python",
   "name": "python3"
  },
  "language_info": {
   "codemirror_mode": {
    "name": "ipython",
    "version": 3
   },
   "file_extension": ".py",
   "mimetype": "text/x-python",
   "name": "python",
   "nbconvert_exporter": "python",
   "pygments_lexer": "ipython3",
   "version": "3.9.19"
  }
 },
 "nbformat": 4,
 "nbformat_minor": 2
}
